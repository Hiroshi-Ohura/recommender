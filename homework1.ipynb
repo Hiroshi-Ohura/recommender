{
 "cells": [
  {
   "cell_type": "code",
   "execution_count": 142,
   "metadata": {
    "collapsed": true
   },
   "outputs": [],
   "source": [
    "import pymysql\n",
    "import pandas.io.sql as psql\n",
    "%matplotlib inline\n",
    "from __future__ import print_function\n",
    "\n",
    "try:\n",
    "    xrange\n",
    "except NameError:\n",
    "    xrange = range\n",
    "\n",
    "import pandas as pd\n",
    "import numpy as np\n",
    "import matplotlib.pyplot as plt\n",
    "import scipy.spatial as sp\n",
    "import scipy.sparse as sparse\n",
    "from sklearn.decomposition import NMF, TruncatedSVD #非負値、特異値\n",
    "import time"
   ]
  },
  {
   "cell_type": "code",
   "execution_count": 108,
   "metadata": {
    "collapsed": true
   },
   "outputs": [],
   "source": [
    "con = pymysql.connect(host=\"recommendation-201810.csbsmnjyxb52.ap-northeast-1.rds.amazonaws.com\",\n",
    "                     user=\"guest1\",\n",
    "                     password=\"guest1\",\n",
    "                      database=\"movies\",\n",
    "                     port=3306)"
   ]
  },
  {
   "cell_type": "code",
   "execution_count": 109,
   "metadata": {
    "collapsed": true
   },
   "outputs": [],
   "source": [
    "sql = \"\"\"\n",
    "SELECT\n",
    "a.userId,\n",
    "a.movieId,\n",
    "c.title,\n",
    "a.rating\n",
    "FROM rating as a \n",
    "INNER JOIN \n",
    "links as b\n",
    "on a.movieId = b.movieId\n",
    "INNER JOIN\n",
    "movies_meta as c \n",
    "ON b.tmdbid = c.tmdbid\n",
    "\"\"\""
   ]
  },
  {
   "cell_type": "code",
   "execution_count": 140,
   "metadata": {
    "collapsed": true
   },
   "outputs": [],
   "source": [
    "data = psql.read_sql(sql, con)\n",
    "movie = data.drop_duplicates(subset=['userId', 'title'])\n",
    "movie_sel = movie[['movieId', 'title']].drop_duplicates()\n",
    "movie_dict = dict(zip(movie_sel['movieId'].astype(int), movie_sel['title']))\n",
    "                             \n",
    "rating_matrix = \\\n",
    " movie.pivot(index='title', columns='userId', values='rating')\n",
    "rating_matrix.fillna(0, inplace=True)\n",
    "                             \n",
    "user_list = np.array(rating_matrix.columns)\n",
    "title_list = np.array(rating_matrix.index)\n",
    "                             \n",
    "rating_matrix_ar = np.array(rating_matrix)\n",
    "                             \n",
    "def get_cosine_similarity(x, y):\n",
    "    return 1- sp.distance.cosine(x, y)\n",
    "\n",
    "def get_jaccard_similarity(x, y):\n",
    "    return 1 - sp.distance.jaccard(x, y)"
   ]
  },
  {
   "cell_type": "code",
   "execution_count": 153,
   "metadata": {},
   "outputs": [
    {
     "name": "stdout",
     "output_type": "stream",
     "text": [
      "Away from Her\n",
      "22 Jump Street\n",
      "America's Sweethearts\n",
      "Angels in America\n",
      "Agnes of God\n",
      "----------------------------\n",
      "経過時間：0.6812129020690918\n"
     ]
    }
   ],
   "source": [
    "t1 = time.time() \n",
    "\n",
    "movie_id = 101\n",
    "\n",
    "movie_similarity = []\n",
    "target_movie_row = rating_matrix_ar[list(rating_matrix.index).index(movie_dict[movie_id])]\n",
    "for row in rating_matrix_ar:\n",
    "    sim = get_jaccard_similarity(target_movie_row, row)\n",
    "    movie_similarity.append(sim)\n",
    "movie_similarity = np.array(movie_similarity)\n",
    "\n",
    "topN = 20\n",
    "idx = movie_similarity.argsort()[::-1][1:topN+1]\n",
    "selected_movie_similarity = movie_similarity[idx]\n",
    "selected_rating = rating_matrix_ar[idx]\n",
    "                             \n",
    "avg_score = []\n",
    "for col_idx in range(selected_rating.shape[1]):\n",
    "    weight_score = sum(selected_rating[:, col_idx] * selected_movie_similarity)\n",
    "    similarity_sum = \\\n",
    "     sum(selected_movie_similarity[selected_movie_similarity > 0])\n",
    "    avg_score.append(weight_score / similarity_sum)\n",
    "avg_score = np.array(avg_score)\n",
    "\n",
    "recommend_num = 5\n",
    "counter = 0\n",
    "for recommended_topic in title_list[avg_score.argsort()[::-1]]:\n",
    "    #if recommended_topic not in already_followed_topic:\n",
    "    print(recommended_topic)\n",
    "    counter += 1\n",
    "    if recommend_num <= counter:\n",
    "        break\n",
    "\n",
    "t2 = time.time()\n",
    " \n",
    "# 経過時間を表示\n",
    "elapsed_time = t2-t1\n",
    "print(f\"----------------------------\")\n",
    "print(f\"経過時間：{elapsed_time}\")"
   ]
  },
  {
   "cell_type": "code",
   "execution_count": 154,
   "metadata": {
    "collapsed": true
   },
   "outputs": [],
   "source": [
    "svd = TruncatedSVD(n_components=20)\n",
    "rating_matrix_sparse = sparse.lil_matrix(rating_matrix_ar)\n",
    "rating_matrix_svd = svd.fit_transform(rating_matrix_sparse)"
   ]
  },
  {
   "cell_type": "code",
   "execution_count": 155,
   "metadata": {},
   "outputs": [
    {
     "name": "stdout",
     "output_type": "stream",
     "text": [
      "Back in the Day\n",
      "A Single Man\n",
      "A Simple Twist of Fate\n",
      "A Simple Plan\n",
      "A Shot in the Dark\n",
      "----------------------------\n",
      "経過時間：0.5588192939758301\n"
     ]
    },
    {
     "name": "stderr",
     "output_type": "stream",
     "text": [
      "C:\\Users\\Hiroshi.Hiromax\\Anaconda3\\lib\\site-packages\\ipykernel_launcher.py:21: RuntimeWarning: invalid value encountered in double_scalars\n"
     ]
    }
   ],
   "source": [
    "t1 = time.time() \n",
    "\n",
    "movie_id = 101\n",
    "\n",
    "movie_similarity = []\n",
    "target_movie_row = rating_matrix_svd[list(rating_matrix.index).index(movie_dict[movie_id])]\n",
    "for row in rating_matrix_svd:\n",
    "    sim = get_jaccard_similarity(target_movie_row, row)\n",
    "    movie_similarity.append(sim)\n",
    "movie_similarity = np.array(movie_similarity)\n",
    "\n",
    "topN = 20\n",
    "idx = movie_similarity.argsort()[::-1][1:topN+1]\n",
    "selected_movie_similarity = movie_similarity[idx]\n",
    "selected_rating = rating_matrix_ar[idx]\n",
    "                             \n",
    "avg_score = []\n",
    "for col_idx in range(selected_rating.shape[1]):\n",
    "    weight_score = sum(selected_rating[:, col_idx] * selected_movie_similarity)\n",
    "    similarity_sum = \\\n",
    "     sum(selected_movie_similarity[selected_movie_similarity > 0])\n",
    "    avg_score.append(weight_score / similarity_sum)\n",
    "avg_score = np.array(avg_score)\n",
    "\n",
    "recommend_num = 5\n",
    "counter = 0\n",
    "for recommended_topic in title_list[avg_score.argsort()[::-1]]:\n",
    "    #if recommended_topic not in already_followed_topic:\n",
    "    print(recommended_topic)\n",
    "    counter += 1\n",
    "    if recommend_num <= counter:\n",
    "        break\n",
    "\n",
    "t2 = time.time()\n",
    " \n",
    "# 経過時間を表示\n",
    "elapsed_time = t2-t1\n",
    "print(f\"----------------------------\")\n",
    "print(f\"経過時間：{elapsed_time}\")"
   ]
  },
  {
   "cell_type": "code",
   "execution_count": 156,
   "metadata": {
    "collapsed": true
   },
   "outputs": [],
   "source": [
    "nmf = NMF(n_components=10, random_state=1236, init='random')\n",
    "rating_matrix_sparse = sparse.lil_matrix(rating_matrix_ar)\n",
    "rating_matrix_nmf = nmf.fit_transform(rating_matrix_sparse)"
   ]
  },
  {
   "cell_type": "code",
   "execution_count": 157,
   "metadata": {},
   "outputs": [
    {
     "name": "stdout",
     "output_type": "stream",
     "text": [
      "Back in the Day\n",
      "A Single Man\n",
      "A Simple Twist of Fate\n",
      "A Simple Plan\n",
      "A Shot in the Dark\n",
      "----------------------------\n",
      "経過時間：0.5406308174133301\n"
     ]
    },
    {
     "name": "stderr",
     "output_type": "stream",
     "text": [
      "C:\\Users\\Hiroshi.Hiromax\\Anaconda3\\lib\\site-packages\\ipykernel_launcher.py:21: RuntimeWarning: invalid value encountered in double_scalars\n"
     ]
    }
   ],
   "source": [
    "t1 = time.time() \n",
    "\n",
    "movie_id = 101\n",
    "\n",
    "movie_similarity = []\n",
    "target_movie_row = rating_matrix_nmf[list(rating_matrix.index).index(movie_dict[movie_id])]\n",
    "for row in rating_matrix_nmf:\n",
    "    sim = get_jaccard_similarity(target_movie_row, row)\n",
    "    movie_similarity.append(sim)\n",
    "movie_similarity = np.array(movie_similarity)\n",
    "\n",
    "topN = 20\n",
    "idx = movie_similarity.argsort()[::-1][1:topN+1]\n",
    "selected_movie_similarity = movie_similarity[idx]\n",
    "selected_rating = rating_matrix_ar[idx]\n",
    "                             \n",
    "avg_score = []\n",
    "for col_idx in range(selected_rating.shape[1]):\n",
    "    weight_score = sum(selected_rating[:, col_idx] * selected_movie_similarity)\n",
    "    similarity_sum = \\\n",
    "     sum(selected_movie_similarity[selected_movie_similarity > 0])\n",
    "    avg_score.append(weight_score / similarity_sum)\n",
    "avg_score = np.array(avg_score)\n",
    "\n",
    "recommend_num = 5\n",
    "counter = 0\n",
    "for recommended_topic in title_list[avg_score.argsort()[::-1]]:\n",
    "    #if recommended_topic not in already_followed_topic:\n",
    "    print(recommended_topic)\n",
    "    counter += 1\n",
    "    if recommend_num <= counter:\n",
    "        break\n",
    "\n",
    "t2 = time.time()\n",
    " \n",
    "# 経過時間を表示\n",
    "elapsed_time = t2-t1\n",
    "print(f\"----------------------------\")\n",
    "print(f\"経過時間：{elapsed_time}\")"
   ]
  },
  {
   "cell_type": "markdown",
   "metadata": {},
   "source": [
    "### 2. https://jsonlint.com/ でなぜエラーが出るのかを確認する"
   ]
  },
  {
   "cell_type": "code",
   "execution_count": null,
   "metadata": {
    "collapsed": true
   },
   "outputs": [],
   "source": []
  }
 ],
 "metadata": {
  "kernelspec": {
   "display_name": "Python 3",
   "language": "python",
   "name": "python3"
  },
  "language_info": {
   "codemirror_mode": {
    "name": "ipython",
    "version": 3
   },
   "file_extension": ".py",
   "mimetype": "text/x-python",
   "name": "python",
   "nbconvert_exporter": "python",
   "pygments_lexer": "ipython3",
   "version": "3.6.7"
  }
 },
 "nbformat": 4,
 "nbformat_minor": 2
}
