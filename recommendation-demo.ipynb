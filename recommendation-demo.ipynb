{
 "cells": [
  {
   "cell_type": "code",
   "execution_count": 1,
   "metadata": {
    "collapsed": true
   },
   "outputs": [],
   "source": [
    "%matplotlib inline\n",
    "from __future__ import print_function\n",
    "\n",
    "try:\n",
    "    xrange\n",
    "except NameError:\n",
    "    xrange = range\n",
    "\n",
    "import pandas as pd\n",
    "import numpy as np\n",
    "import matplotlib.pyplot as plt\n",
    "import scipy.spatial as sp\n",
    "import scipy.sparse as sparse\n",
    "from sklearn.decomposition import NMF, TruncatedSVD #皮膚地、徳一"
   ]
  },
  {
   "cell_type": "markdown",
   "metadata": {},
   "source": [
    "<h2>レコメンデーション</h2>\n",
    "\n",
    "レコメンデーションの最も一般的なアルゴリズムである協調フィルタリングを紹介します。\n",
    "まずは簡単なダミーデータで説明していきます。"
   ]
  },
  {
   "cell_type": "code",
   "execution_count": 2,
   "metadata": {
    "collapsed": true
   },
   "outputs": [],
   "source": [
    "rating_matrix = np.array([[2, 5, 1, 1, 0, 1, 2, 4],\n",
    "                          [1, 5, 2, 1, 4, 0, 0, 3],\n",
    "                          [0, 3, 3, 0, 1, 1, 1, 1],\n",
    "                          [5, 2, 2, 3, 1, 0, 0, 4],\n",
    "                          [5, 3, 3, 4, 1, 0, 0, 5],\n",
    "                          [1, 4, 3, 2, 5, 1, 0, 1],\n",
    "                          [0, 0, 0, 0, 0, 0, 0, 2],\n",
    "                          [0, 4, 0, 0, 0, 0, 0, 0]])"
   ]
  },
  {
   "cell_type": "code",
   "execution_count": 58,
   "metadata": {},
   "outputs": [
    {
     "data": {
      "text/plain": [
       "8"
      ]
     },
     "execution_count": 58,
     "metadata": {},
     "output_type": "execute_result"
    }
   ],
   "source": [
    "len(rating_matrix)"
   ]
  },
  {
   "cell_type": "markdown",
   "metadata": {},
   "source": [
    "1行目のユーザーと似ているユーザーを探しましょう。"
   ]
  },
  {
   "cell_type": "code",
   "execution_count": 59,
   "metadata": {},
   "outputs": [
    {
     "data": {
      "text/plain": [
       "array([ 1.        ,  0.77831178,  0.73914049,  0.7402121 ,  0.78215389,\n",
       "        0.58777469,  0.5547002 ,  0.69337525])"
      ]
     },
     "execution_count": 59,
     "metadata": {},
     "output_type": "execute_result"
    }
   ],
   "source": [
    "user_similarity = []\n",
    "for i in range(len(rating_matrix)):\n",
    "    # cosine類似度　= 1 - cosine距離\n",
    "    sim = 1 - sp.distance.cosine(rating_matrix[0], rating_matrix[i])\n",
    "    user_similarity.append(sim)\n",
    "    \n",
    "user_similarity = np.array(user_similarity)\n",
    "user_similarity"
   ]
  },
  {
   "cell_type": "markdown",
   "metadata": {},
   "source": [
    "topNで指定した類似度の高いユーザーを探しましょう。"
   ]
  },
  {
   "cell_type": "code",
   "execution_count": 4,
   "metadata": {},
   "outputs": [
    {
     "data": {
      "text/plain": [
       "array([[5, 3, 3, 4, 1, 0, 0, 5],\n",
       "       [1, 5, 2, 1, 4, 0, 0, 3],\n",
       "       [5, 2, 2, 3, 1, 0, 0, 4],\n",
       "       [0, 3, 3, 0, 1, 1, 1, 1]])"
      ]
     },
     "execution_count": 4,
     "metadata": {},
     "output_type": "execute_result"
    }
   ],
   "source": [
    "topN = 4\n",
    "\n",
    "# userのインデックス（行番号）をNumpy Arrayで作っておきます\n",
    "user_idx = np.array(range(0, len(rating_matrix)))\n",
    "\n",
    "# 類似度の低い順にソートした結果のインデックスを用意して、降順に並び替えます\n",
    "arg_sort = np.argsort(user_similarity)\n",
    "arg_sort = arg_sort[::-1]\n",
    "\n",
    "# 自分自身を除いた類似度の高い4人を選びます\n",
    "selected_idx = arg_sort[1:topN+1]\n",
    "\n",
    "selected_user_similarity = user_similarity[selected_idx]\n",
    "selected_rating_matrix = rating_matrix[selected_idx]\n",
    "selected_rating_matrix"
   ]
  },
  {
   "cell_type": "code",
   "execution_count": 60,
   "metadata": {},
   "outputs": [
    {
     "data": {
      "text/plain": [
       "array([0, 4, 1, 3, 2, 7, 5, 6], dtype=int64)"
      ]
     },
     "execution_count": 60,
     "metadata": {},
     "output_type": "execute_result"
    }
   ],
   "source": [
    "arg_sort"
   ]
  },
  {
   "cell_type": "markdown",
   "metadata": {},
   "source": [
    "どの商品をオススメするか？ここでは平均類似度を使ってみましょう。"
   ]
  },
  {
   "cell_type": "code",
   "execution_count": 61,
   "metadata": {},
   "outputs": [
    {
     "ename": "ValueError",
     "evalue": "operands could not be broadcast together with shapes (4,) (20,) ",
     "output_type": "error",
     "traceback": [
      "\u001b[1;31m---------------------------------------------------------------------------\u001b[0m",
      "\u001b[1;31mValueError\u001b[0m                                Traceback (most recent call last)",
      "\u001b[1;32m<ipython-input-61-141b612d9c11>\u001b[0m in \u001b[0;36m<module>\u001b[1;34m()\u001b[0m\n\u001b[0;32m      1\u001b[0m \u001b[0mavg_score\u001b[0m \u001b[1;33m=\u001b[0m \u001b[1;33m[\u001b[0m\u001b[1;33m]\u001b[0m\u001b[1;33m\u001b[0m\u001b[0m\n\u001b[0;32m      2\u001b[0m \u001b[1;32mfor\u001b[0m \u001b[0mcol_idx\u001b[0m \u001b[1;32min\u001b[0m \u001b[0mrange\u001b[0m\u001b[1;33m(\u001b[0m\u001b[0mselected_rating_matrix\u001b[0m\u001b[1;33m.\u001b[0m\u001b[0mshape\u001b[0m\u001b[1;33m[\u001b[0m\u001b[1;36m1\u001b[0m\u001b[1;33m]\u001b[0m\u001b[1;33m)\u001b[0m\u001b[1;33m:\u001b[0m\u001b[1;33m\u001b[0m\u001b[0m\n\u001b[1;32m----> 3\u001b[1;33m     \u001b[0mweight_score\u001b[0m \u001b[1;33m=\u001b[0m      \u001b[0msum\u001b[0m\u001b[1;33m(\u001b[0m\u001b[0mselected_rating_matrix\u001b[0m\u001b[1;33m[\u001b[0m\u001b[1;33m:\u001b[0m\u001b[1;33m,\u001b[0m \u001b[0mcol_idx\u001b[0m\u001b[1;33m]\u001b[0m \u001b[1;33m*\u001b[0m \u001b[0mselected_user_similarity\u001b[0m\u001b[1;33m)\u001b[0m\u001b[1;33m\u001b[0m\u001b[0m\n\u001b[0m\u001b[0;32m      4\u001b[0m     \u001b[0msimilarity_sum\u001b[0m \u001b[1;33m=\u001b[0m      \u001b[0msum\u001b[0m\u001b[1;33m(\u001b[0m\u001b[0mselected_user_similarity\u001b[0m\u001b[1;33m[\u001b[0m\u001b[0mselected_user_similarity\u001b[0m \u001b[1;33m>\u001b[0m \u001b[1;36m0\u001b[0m\u001b[1;33m]\u001b[0m\u001b[1;33m)\u001b[0m\u001b[1;33m\u001b[0m\u001b[0m\n\u001b[0;32m      5\u001b[0m     \u001b[0mavg_score\u001b[0m\u001b[1;33m.\u001b[0m\u001b[0mappend\u001b[0m\u001b[1;33m(\u001b[0m\u001b[0mweight_score\u001b[0m \u001b[1;33m/\u001b[0m \u001b[0msimilarity_sum\u001b[0m\u001b[1;33m)\u001b[0m\u001b[1;33m\u001b[0m\u001b[0m\n",
      "\u001b[1;31mValueError\u001b[0m: operands could not be broadcast together with shapes (4,) (20,) "
     ]
    }
   ],
   "source": [
    "avg_score = []\n",
    "for col_idx in range(selected_rating_matrix.shape[1]):\n",
    "    weight_score = \\\n",
    "     sum(selected_rating_matrix[:, col_idx] * selected_user_similarity)\n",
    "    similarity_sum = \\\n",
    "     sum(selected_user_similarity[selected_user_similarity > 0])\n",
    "    avg_score.append(weight_score / similarity_sum)"
   ]
  },
  {
   "cell_type": "code",
   "execution_count": 6,
   "metadata": {},
   "outputs": [
    {
     "name": "stdout",
     "output_type": "stream",
     "text": [
      "0th item   2.76008004028\n",
      "1th item   3.26857245915\n",
      "2th item   2.50045570209\n",
      "3th item   2.01576643714\n",
      "4th item   1.76811675706\n",
      "5th item   0.243152856729\n",
      "6th item   0.243152856729\n",
      "7th item   3.27180535615\n"
     ]
    }
   ],
   "source": [
    "for i, v in enumerate(avg_score):\n",
    "    print(str(i) + 'th item  ', v)"
   ]
  },
  {
   "cell_type": "markdown",
   "metadata": {},
   "source": [
    "上記だと具体的な商品名がないので、わかりにくいですよね（でも雰囲気は伝わりましたか？）。もう少し具体的なデータでやってみましょう。"
   ]
  },
  {
   "cell_type": "markdown",
   "metadata": {},
   "source": [
    "<h2>某ニュースアプリのテーマのフォロー状況を模したデータで協調フィルタリング</h2>\n",
    "\n",
    "datasetフォルダにあるuser_topic_follow_dummy.csvを読み込みましょう。"
   ]
  },
  {
   "cell_type": "code",
   "execution_count": 7,
   "metadata": {},
   "outputs": [
    {
     "name": "stdout",
     "output_type": "stream",
     "text": [
      "(339323, 2)\n"
     ]
    },
    {
     "data": {
      "text/html": [
       "<div>\n",
       "<style>\n",
       "    .dataframe thead tr:only-child th {\n",
       "        text-align: right;\n",
       "    }\n",
       "\n",
       "    .dataframe thead th {\n",
       "        text-align: left;\n",
       "    }\n",
       "\n",
       "    .dataframe tbody tr th {\n",
       "        vertical-align: top;\n",
       "    }\n",
       "</style>\n",
       "<table border=\"1\" class=\"dataframe\">\n",
       "  <thead>\n",
       "    <tr style=\"text-align: right;\">\n",
       "      <th></th>\n",
       "      <th>user_id</th>\n",
       "      <th>topic_name</th>\n",
       "    </tr>\n",
       "  </thead>\n",
       "  <tbody>\n",
       "    <tr>\n",
       "      <th>0</th>\n",
       "      <td>25126</td>\n",
       "      <td>(株)アップル</td>\n",
       "    </tr>\n",
       "    <tr>\n",
       "      <th>1</th>\n",
       "      <td>26285</td>\n",
       "      <td>(株)電通</td>\n",
       "    </tr>\n",
       "    <tr>\n",
       "      <th>2</th>\n",
       "      <td>15409</td>\n",
       "      <td>.NET_Framework</td>\n",
       "    </tr>\n",
       "    <tr>\n",
       "      <th>3</th>\n",
       "      <td>30466</td>\n",
       "      <td>.NET_Framework</td>\n",
       "    </tr>\n",
       "    <tr>\n",
       "      <th>4</th>\n",
       "      <td>30878</td>\n",
       "      <td>.NET_Framework</td>\n",
       "    </tr>\n",
       "  </tbody>\n",
       "</table>\n",
       "</div>"
      ],
      "text/plain": [
       "   user_id      topic_name\n",
       "0    25126         (株)アップル\n",
       "1    26285           (株)電通\n",
       "2    15409  .NET_Framework\n",
       "3    30466  .NET_Framework\n",
       "4    30878  .NET_Framework"
      ]
     },
     "execution_count": 7,
     "metadata": {},
     "output_type": "execute_result"
    }
   ],
   "source": [
    "data = pd.read_csv('dataset/user_topic_follow_dummy.csv', encoding='utf8')\n",
    "data.drop_duplicates(keep='last', inplace=True)\n",
    "print(data.shape)\n",
    "data.head()"
   ]
  },
  {
   "cell_type": "markdown",
   "metadata": {},
   "source": [
    "この後、Pandasのpivotを使って、User x Itemの行列を作りますので、ratingの列を新たに作成し、１.0を格納しておきます。"
   ]
  },
  {
   "cell_type": "code",
   "execution_count": 8,
   "metadata": {
    "collapsed": true
   },
   "outputs": [],
   "source": [
    "data['rating'] = 1.0"
   ]
  },
  {
   "cell_type": "code",
   "execution_count": 28,
   "metadata": {},
   "outputs": [
    {
     "data": {
      "text/html": [
       "<div>\n",
       "<style>\n",
       "    .dataframe thead tr:only-child th {\n",
       "        text-align: right;\n",
       "    }\n",
       "\n",
       "    .dataframe thead th {\n",
       "        text-align: left;\n",
       "    }\n",
       "\n",
       "    .dataframe tbody tr th {\n",
       "        vertical-align: top;\n",
       "    }\n",
       "</style>\n",
       "<table border=\"1\" class=\"dataframe\">\n",
       "  <thead>\n",
       "    <tr style=\"text-align: right;\">\n",
       "      <th></th>\n",
       "      <th>user_id</th>\n",
       "      <th>topic_name</th>\n",
       "      <th>rating</th>\n",
       "    </tr>\n",
       "  </thead>\n",
       "  <tbody>\n",
       "    <tr>\n",
       "      <th>0</th>\n",
       "      <td>25126</td>\n",
       "      <td>(株)アップル</td>\n",
       "      <td>1.0</td>\n",
       "    </tr>\n",
       "    <tr>\n",
       "      <th>1</th>\n",
       "      <td>26285</td>\n",
       "      <td>(株)電通</td>\n",
       "      <td>1.0</td>\n",
       "    </tr>\n",
       "    <tr>\n",
       "      <th>2</th>\n",
       "      <td>15409</td>\n",
       "      <td>.NET_Framework</td>\n",
       "      <td>1.0</td>\n",
       "    </tr>\n",
       "    <tr>\n",
       "      <th>3</th>\n",
       "      <td>30466</td>\n",
       "      <td>.NET_Framework</td>\n",
       "      <td>1.0</td>\n",
       "    </tr>\n",
       "    <tr>\n",
       "      <th>4</th>\n",
       "      <td>30878</td>\n",
       "      <td>.NET_Framework</td>\n",
       "      <td>1.0</td>\n",
       "    </tr>\n",
       "    <tr>\n",
       "      <th>5</th>\n",
       "      <td>36212</td>\n",
       "      <td>.NET_Framework</td>\n",
       "      <td>1.0</td>\n",
       "    </tr>\n",
       "    <tr>\n",
       "      <th>6</th>\n",
       "      <td>29520</td>\n",
       "      <td>0増5減</td>\n",
       "      <td>1.0</td>\n",
       "    </tr>\n",
       "    <tr>\n",
       "      <th>7</th>\n",
       "      <td>24</td>\n",
       "      <td>100円ショップ</td>\n",
       "      <td>1.0</td>\n",
       "    </tr>\n",
       "    <tr>\n",
       "      <th>8</th>\n",
       "      <td>1339</td>\n",
       "      <td>100円ショップ</td>\n",
       "      <td>1.0</td>\n",
       "    </tr>\n",
       "    <tr>\n",
       "      <th>9</th>\n",
       "      <td>2492</td>\n",
       "      <td>100円ショップ</td>\n",
       "      <td>1.0</td>\n",
       "    </tr>\n",
       "    <tr>\n",
       "      <th>10</th>\n",
       "      <td>2685</td>\n",
       "      <td>100円ショップ</td>\n",
       "      <td>1.0</td>\n",
       "    </tr>\n",
       "    <tr>\n",
       "      <th>11</th>\n",
       "      <td>1941</td>\n",
       "      <td>100円ショップ</td>\n",
       "      <td>1.0</td>\n",
       "    </tr>\n",
       "    <tr>\n",
       "      <th>12</th>\n",
       "      <td>5000</td>\n",
       "      <td>100円ショップ</td>\n",
       "      <td>1.0</td>\n",
       "    </tr>\n",
       "    <tr>\n",
       "      <th>13</th>\n",
       "      <td>5527</td>\n",
       "      <td>100円ショップ</td>\n",
       "      <td>1.0</td>\n",
       "    </tr>\n",
       "    <tr>\n",
       "      <th>14</th>\n",
       "      <td>4553</td>\n",
       "      <td>100円ショップ</td>\n",
       "      <td>1.0</td>\n",
       "    </tr>\n",
       "    <tr>\n",
       "      <th>15</th>\n",
       "      <td>5411</td>\n",
       "      <td>100円ショップ</td>\n",
       "      <td>1.0</td>\n",
       "    </tr>\n",
       "    <tr>\n",
       "      <th>16</th>\n",
       "      <td>7099</td>\n",
       "      <td>100円ショップ</td>\n",
       "      <td>1.0</td>\n",
       "    </tr>\n",
       "    <tr>\n",
       "      <th>17</th>\n",
       "      <td>5797</td>\n",
       "      <td>100円ショップ</td>\n",
       "      <td>1.0</td>\n",
       "    </tr>\n",
       "    <tr>\n",
       "      <th>18</th>\n",
       "      <td>3696</td>\n",
       "      <td>100円ショップ</td>\n",
       "      <td>1.0</td>\n",
       "    </tr>\n",
       "    <tr>\n",
       "      <th>19</th>\n",
       "      <td>8935</td>\n",
       "      <td>100円ショップ</td>\n",
       "      <td>1.0</td>\n",
       "    </tr>\n",
       "    <tr>\n",
       "      <th>20</th>\n",
       "      <td>10204</td>\n",
       "      <td>100円ショップ</td>\n",
       "      <td>1.0</td>\n",
       "    </tr>\n",
       "    <tr>\n",
       "      <th>21</th>\n",
       "      <td>6532</td>\n",
       "      <td>100円ショップ</td>\n",
       "      <td>1.0</td>\n",
       "    </tr>\n",
       "    <tr>\n",
       "      <th>22</th>\n",
       "      <td>9469</td>\n",
       "      <td>100円ショップ</td>\n",
       "      <td>1.0</td>\n",
       "    </tr>\n",
       "    <tr>\n",
       "      <th>23</th>\n",
       "      <td>11663</td>\n",
       "      <td>100円ショップ</td>\n",
       "      <td>1.0</td>\n",
       "    </tr>\n",
       "    <tr>\n",
       "      <th>24</th>\n",
       "      <td>11971</td>\n",
       "      <td>100円ショップ</td>\n",
       "      <td>1.0</td>\n",
       "    </tr>\n",
       "    <tr>\n",
       "      <th>25</th>\n",
       "      <td>13762</td>\n",
       "      <td>100円ショップ</td>\n",
       "      <td>1.0</td>\n",
       "    </tr>\n",
       "    <tr>\n",
       "      <th>26</th>\n",
       "      <td>15292</td>\n",
       "      <td>100円ショップ</td>\n",
       "      <td>1.0</td>\n",
       "    </tr>\n",
       "    <tr>\n",
       "      <th>27</th>\n",
       "      <td>15974</td>\n",
       "      <td>100円ショップ</td>\n",
       "      <td>1.0</td>\n",
       "    </tr>\n",
       "    <tr>\n",
       "      <th>28</th>\n",
       "      <td>16736</td>\n",
       "      <td>100円ショップ</td>\n",
       "      <td>1.0</td>\n",
       "    </tr>\n",
       "    <tr>\n",
       "      <th>29</th>\n",
       "      <td>16834</td>\n",
       "      <td>100円ショップ</td>\n",
       "      <td>1.0</td>\n",
       "    </tr>\n",
       "    <tr>\n",
       "      <th>...</th>\n",
       "      <td>...</td>\n",
       "      <td>...</td>\n",
       "      <td>...</td>\n",
       "    </tr>\n",
       "    <tr>\n",
       "      <th>339474</th>\n",
       "      <td>6321</td>\n",
       "      <td>黒田孝高</td>\n",
       "      <td>1.0</td>\n",
       "    </tr>\n",
       "    <tr>\n",
       "      <th>339475</th>\n",
       "      <td>2276</td>\n",
       "      <td>黒田崇矢</td>\n",
       "      <td>1.0</td>\n",
       "    </tr>\n",
       "    <tr>\n",
       "      <th>339476</th>\n",
       "      <td>24124</td>\n",
       "      <td>黒田崇矢</td>\n",
       "      <td>1.0</td>\n",
       "    </tr>\n",
       "    <tr>\n",
       "      <th>339477</th>\n",
       "      <td>30707</td>\n",
       "      <td>黒田崇矢</td>\n",
       "      <td>1.0</td>\n",
       "    </tr>\n",
       "    <tr>\n",
       "      <th>339478</th>\n",
       "      <td>30747</td>\n",
       "      <td>黒田崇矢</td>\n",
       "      <td>1.0</td>\n",
       "    </tr>\n",
       "    <tr>\n",
       "      <th>339479</th>\n",
       "      <td>221</td>\n",
       "      <td>黒谷友香</td>\n",
       "      <td>1.0</td>\n",
       "    </tr>\n",
       "    <tr>\n",
       "      <th>339480</th>\n",
       "      <td>4627</td>\n",
       "      <td>黒谷友香</td>\n",
       "      <td>1.0</td>\n",
       "    </tr>\n",
       "    <tr>\n",
       "      <th>339481</th>\n",
       "      <td>7795</td>\n",
       "      <td>黒谷友香</td>\n",
       "      <td>1.0</td>\n",
       "    </tr>\n",
       "    <tr>\n",
       "      <th>339482</th>\n",
       "      <td>14004</td>\n",
       "      <td>黒谷友香</td>\n",
       "      <td>1.0</td>\n",
       "    </tr>\n",
       "    <tr>\n",
       "      <th>339483</th>\n",
       "      <td>15740</td>\n",
       "      <td>黒谷友香</td>\n",
       "      <td>1.0</td>\n",
       "    </tr>\n",
       "    <tr>\n",
       "      <th>339484</th>\n",
       "      <td>34899</td>\n",
       "      <td>黒谷友香</td>\n",
       "      <td>1.0</td>\n",
       "    </tr>\n",
       "    <tr>\n",
       "      <th>339485</th>\n",
       "      <td>5788</td>\n",
       "      <td>鼻炎</td>\n",
       "      <td>1.0</td>\n",
       "    </tr>\n",
       "    <tr>\n",
       "      <th>339486</th>\n",
       "      <td>7150</td>\n",
       "      <td>鼻炎</td>\n",
       "      <td>1.0</td>\n",
       "    </tr>\n",
       "    <tr>\n",
       "      <th>339487</th>\n",
       "      <td>12217</td>\n",
       "      <td>鼻炎</td>\n",
       "      <td>1.0</td>\n",
       "    </tr>\n",
       "    <tr>\n",
       "      <th>339488</th>\n",
       "      <td>16932</td>\n",
       "      <td>鼻炎</td>\n",
       "      <td>1.0</td>\n",
       "    </tr>\n",
       "    <tr>\n",
       "      <th>339489</th>\n",
       "      <td>18857</td>\n",
       "      <td>鼻炎</td>\n",
       "      <td>1.0</td>\n",
       "    </tr>\n",
       "    <tr>\n",
       "      <th>339490</th>\n",
       "      <td>19662</td>\n",
       "      <td>鼻炎</td>\n",
       "      <td>1.0</td>\n",
       "    </tr>\n",
       "    <tr>\n",
       "      <th>339491</th>\n",
       "      <td>32409</td>\n",
       "      <td>齋藤飛鳥</td>\n",
       "      <td>1.0</td>\n",
       "    </tr>\n",
       "    <tr>\n",
       "      <th>339492</th>\n",
       "      <td>667</td>\n",
       "      <td>龍ケ崎市</td>\n",
       "      <td>1.0</td>\n",
       "    </tr>\n",
       "    <tr>\n",
       "      <th>339493</th>\n",
       "      <td>7787</td>\n",
       "      <td>龍ケ崎市</td>\n",
       "      <td>1.0</td>\n",
       "    </tr>\n",
       "    <tr>\n",
       "      <th>339494</th>\n",
       "      <td>1466</td>\n",
       "      <td>龍ケ崎市</td>\n",
       "      <td>1.0</td>\n",
       "    </tr>\n",
       "    <tr>\n",
       "      <th>339495</th>\n",
       "      <td>12137</td>\n",
       "      <td>龍ケ崎市</td>\n",
       "      <td>1.0</td>\n",
       "    </tr>\n",
       "    <tr>\n",
       "      <th>339496</th>\n",
       "      <td>15934</td>\n",
       "      <td>龍ケ崎市</td>\n",
       "      <td>1.0</td>\n",
       "    </tr>\n",
       "    <tr>\n",
       "      <th>339497</th>\n",
       "      <td>16285</td>\n",
       "      <td>龍ケ崎市</td>\n",
       "      <td>1.0</td>\n",
       "    </tr>\n",
       "    <tr>\n",
       "      <th>339498</th>\n",
       "      <td>26743</td>\n",
       "      <td>龍ケ崎市</td>\n",
       "      <td>1.0</td>\n",
       "    </tr>\n",
       "    <tr>\n",
       "      <th>339499</th>\n",
       "      <td>27075</td>\n",
       "      <td>龍ケ崎市</td>\n",
       "      <td>1.0</td>\n",
       "    </tr>\n",
       "    <tr>\n",
       "      <th>339500</th>\n",
       "      <td>29062</td>\n",
       "      <td>龍ケ崎市</td>\n",
       "      <td>1.0</td>\n",
       "    </tr>\n",
       "    <tr>\n",
       "      <th>339501</th>\n",
       "      <td>1191</td>\n",
       "      <td>（笑）</td>\n",
       "      <td>1.0</td>\n",
       "    </tr>\n",
       "    <tr>\n",
       "      <th>339502</th>\n",
       "      <td>35022</td>\n",
       "      <td>（笑）</td>\n",
       "      <td>1.0</td>\n",
       "    </tr>\n",
       "    <tr>\n",
       "      <th>339503</th>\n",
       "      <td>19628</td>\n",
       "      <td>［Champagne］</td>\n",
       "      <td>1.0</td>\n",
       "    </tr>\n",
       "  </tbody>\n",
       "</table>\n",
       "<p>339323 rows × 3 columns</p>\n",
       "</div>"
      ],
      "text/plain": [
       "        user_id      topic_name  rating\n",
       "0         25126         (株)アップル     1.0\n",
       "1         26285           (株)電通     1.0\n",
       "2         15409  .NET_Framework     1.0\n",
       "3         30466  .NET_Framework     1.0\n",
       "4         30878  .NET_Framework     1.0\n",
       "5         36212  .NET_Framework     1.0\n",
       "6         29520            0増5減     1.0\n",
       "7            24        100円ショップ     1.0\n",
       "8          1339        100円ショップ     1.0\n",
       "9          2492        100円ショップ     1.0\n",
       "10         2685        100円ショップ     1.0\n",
       "11         1941        100円ショップ     1.0\n",
       "12         5000        100円ショップ     1.0\n",
       "13         5527        100円ショップ     1.0\n",
       "14         4553        100円ショップ     1.0\n",
       "15         5411        100円ショップ     1.0\n",
       "16         7099        100円ショップ     1.0\n",
       "17         5797        100円ショップ     1.0\n",
       "18         3696        100円ショップ     1.0\n",
       "19         8935        100円ショップ     1.0\n",
       "20        10204        100円ショップ     1.0\n",
       "21         6532        100円ショップ     1.0\n",
       "22         9469        100円ショップ     1.0\n",
       "23        11663        100円ショップ     1.0\n",
       "24        11971        100円ショップ     1.0\n",
       "25        13762        100円ショップ     1.0\n",
       "26        15292        100円ショップ     1.0\n",
       "27        15974        100円ショップ     1.0\n",
       "28        16736        100円ショップ     1.0\n",
       "29        16834        100円ショップ     1.0\n",
       "...         ...             ...     ...\n",
       "339474     6321            黒田孝高     1.0\n",
       "339475     2276            黒田崇矢     1.0\n",
       "339476    24124            黒田崇矢     1.0\n",
       "339477    30707            黒田崇矢     1.0\n",
       "339478    30747            黒田崇矢     1.0\n",
       "339479      221            黒谷友香     1.0\n",
       "339480     4627            黒谷友香     1.0\n",
       "339481     7795            黒谷友香     1.0\n",
       "339482    14004            黒谷友香     1.0\n",
       "339483    15740            黒谷友香     1.0\n",
       "339484    34899            黒谷友香     1.0\n",
       "339485     5788              鼻炎     1.0\n",
       "339486     7150              鼻炎     1.0\n",
       "339487    12217              鼻炎     1.0\n",
       "339488    16932              鼻炎     1.0\n",
       "339489    18857              鼻炎     1.0\n",
       "339490    19662              鼻炎     1.0\n",
       "339491    32409            齋藤飛鳥     1.0\n",
       "339492      667            龍ケ崎市     1.0\n",
       "339493     7787            龍ケ崎市     1.0\n",
       "339494     1466            龍ケ崎市     1.0\n",
       "339495    12137            龍ケ崎市     1.0\n",
       "339496    15934            龍ケ崎市     1.0\n",
       "339497    16285            龍ケ崎市     1.0\n",
       "339498    26743            龍ケ崎市     1.0\n",
       "339499    27075            龍ケ崎市     1.0\n",
       "339500    29062            龍ケ崎市     1.0\n",
       "339501     1191             （笑）     1.0\n",
       "339502    35022             （笑）     1.0\n",
       "339503    19628     ［Champagne］     1.0\n",
       "\n",
       "[339323 rows x 3 columns]"
      ]
     },
     "execution_count": 28,
     "metadata": {},
     "output_type": "execute_result"
    }
   ],
   "source": [
    "data"
   ]
  },
  {
   "cell_type": "markdown",
   "metadata": {},
   "source": [
    "実際に User x Itemの行列を作成します。"
   ]
  },
  {
   "cell_type": "code",
   "execution_count": 9,
   "metadata": {
    "collapsed": true
   },
   "outputs": [],
   "source": [
    "rating_matrix = \\\n",
    " data.pivot(index='user_id', columns='topic_name', values='rating')\n",
    "rating_matrix.fillna(0, inplace=True)"
   ]
  },
  {
   "cell_type": "code",
   "execution_count": 10,
   "metadata": {
    "collapsed": true
   },
   "outputs": [],
   "source": [
    "topic_list = np.array(rating_matrix.columns)\n",
    "user_list = np.array(rating_matrix.index)"
   ]
  },
  {
   "cell_type": "code",
   "execution_count": 3,
   "metadata": {},
   "outputs": [
    {
     "ename": "NameError",
     "evalue": "name 'np' is not defined",
     "output_type": "error",
     "traceback": [
      "\u001b[1;31m---------------------------------------------------------------------------\u001b[0m",
      "\u001b[1;31mNameError\u001b[0m                                 Traceback (most recent call last)",
      "\u001b[1;32m<ipython-input-3-f92591962227>\u001b[0m in \u001b[0;36m<module>\u001b[1;34m()\u001b[0m\n\u001b[1;32m----> 1\u001b[1;33m \u001b[0mrating_matrix_ar\u001b[0m \u001b[1;33m=\u001b[0m \u001b[0mnp\u001b[0m\u001b[1;33m.\u001b[0m\u001b[0marray\u001b[0m\u001b[1;33m(\u001b[0m\u001b[0mrating_matrix\u001b[0m\u001b[1;33m)\u001b[0m\u001b[1;33m\u001b[0m\u001b[0m\n\u001b[0m\u001b[0;32m      2\u001b[0m \u001b[0mrating_matrix_ar\u001b[0m\u001b[1;33m\u001b[0m\u001b[0m\n",
      "\u001b[1;31mNameError\u001b[0m: name 'np' is not defined"
     ]
    }
   ],
   "source": [
    "rating_matrix_ar = np.array(rating_matrix)\n",
    "rating_matrix_ar"
   ]
  },
  {
   "cell_type": "code",
   "execution_count": null,
   "metadata": {
    "collapsed": true
   },
   "outputs": [],
   "source": []
  },
  {
   "cell_type": "markdown",
   "metadata": {},
   "source": [
    "さて、user_id=1の方に対するオススメトピックを探してみましょう。"
   ]
  },
  {
   "cell_type": "code",
   "execution_count": 12,
   "metadata": {},
   "outputs": [
    {
     "data": {
      "text/html": [
       "<div>\n",
       "<style>\n",
       "    .dataframe thead tr:only-child th {\n",
       "        text-align: right;\n",
       "    }\n",
       "\n",
       "    .dataframe thead th {\n",
       "        text-align: left;\n",
       "    }\n",
       "\n",
       "    .dataframe tbody tr th {\n",
       "        vertical-align: top;\n",
       "    }\n",
       "</style>\n",
       "<table border=\"1\" class=\"dataframe\">\n",
       "  <thead>\n",
       "    <tr style=\"text-align: right;\">\n",
       "      <th></th>\n",
       "      <th>user_id</th>\n",
       "      <th>topic_name</th>\n",
       "      <th>rating</th>\n",
       "    </tr>\n",
       "  </thead>\n",
       "  <tbody>\n",
       "    <tr>\n",
       "      <th>40826</th>\n",
       "      <td>1</td>\n",
       "      <td>MacBook</td>\n",
       "      <td>1.0</td>\n",
       "    </tr>\n",
       "    <tr>\n",
       "      <th>187716</th>\n",
       "      <td>1</td>\n",
       "      <td>一人旅</td>\n",
       "      <td>1.0</td>\n",
       "    </tr>\n",
       "    <tr>\n",
       "      <th>211960</th>\n",
       "      <td>1</td>\n",
       "      <td>吉祥寺</td>\n",
       "      <td>1.0</td>\n",
       "    </tr>\n",
       "    <tr>\n",
       "      <th>287441</th>\n",
       "      <td>1</td>\n",
       "      <td>築地市場</td>\n",
       "      <td>1.0</td>\n",
       "    </tr>\n",
       "    <tr>\n",
       "      <th>327071</th>\n",
       "      <td>1</td>\n",
       "      <td>離乳食</td>\n",
       "      <td>1.0</td>\n",
       "    </tr>\n",
       "  </tbody>\n",
       "</table>\n",
       "</div>"
      ],
      "text/plain": [
       "        user_id topic_name  rating\n",
       "40826         1    MacBook     1.0\n",
       "187716        1        一人旅     1.0\n",
       "211960        1        吉祥寺     1.0\n",
       "287441        1       築地市場     1.0\n",
       "327071        1        離乳食     1.0"
      ]
     },
     "execution_count": 12,
     "metadata": {},
     "output_type": "execute_result"
    }
   ],
   "source": [
    "already_followed_topic = \\\n",
    " np.array(data[data['user_id'] == user_list[0]]['topic_name'])\n",
    "data[data['user_id'] == user_list[0]]"
   ]
  },
  {
   "cell_type": "markdown",
   "metadata": {},
   "source": [
    "実際にユーザーごとの類似度を計算しましょう。"
   ]
  },
  {
   "cell_type": "code",
   "execution_count": 1,
   "metadata": {},
   "outputs": [
    {
     "ename": "NameError",
     "evalue": "name 'rating_matrix_ar' is not defined",
     "output_type": "error",
     "traceback": [
      "\u001b[1;31m---------------------------------------------------------------------------\u001b[0m",
      "\u001b[1;31mNameError\u001b[0m                                 Traceback (most recent call last)",
      "\u001b[1;32m<ipython-input-1-8972709b548e>\u001b[0m in \u001b[0;36m<module>\u001b[1;34m()\u001b[0m\n\u001b[0;32m      6\u001b[0m \u001b[1;33m\u001b[0m\u001b[0m\n\u001b[0;32m      7\u001b[0m \u001b[0muser_similarity\u001b[0m \u001b[1;33m=\u001b[0m \u001b[1;33m[\u001b[0m\u001b[1;33m]\u001b[0m\u001b[1;33m\u001b[0m\u001b[0m\n\u001b[1;32m----> 8\u001b[1;33m \u001b[0mtarget_user_row\u001b[0m \u001b[1;33m=\u001b[0m \u001b[0mrating_matrix_ar\u001b[0m\u001b[1;33m[\u001b[0m\u001b[1;33m:\u001b[0m\u001b[1;33m,\u001b[0m\u001b[1;36m0\u001b[0m\u001b[1;33m]\u001b[0m\u001b[1;33m\u001b[0m\u001b[0m\n\u001b[0m\u001b[0;32m      9\u001b[0m \u001b[1;32mfor\u001b[0m \u001b[0mrow\u001b[0m \u001b[1;32min\u001b[0m \u001b[0mrating_matrix_ar\u001b[0m\u001b[1;33m:\u001b[0m\u001b[1;33m\u001b[0m\u001b[0m\n\u001b[0;32m     10\u001b[0m     \u001b[0msim\u001b[0m \u001b[1;33m=\u001b[0m \u001b[0mget_jaccard_similarity\u001b[0m\u001b[1;33m(\u001b[0m\u001b[0mtarget_user_row\u001b[0m\u001b[1;33m,\u001b[0m \u001b[0mrow\u001b[0m\u001b[1;33m)\u001b[0m\u001b[1;33m\u001b[0m\u001b[0m\n",
      "\u001b[1;31mNameError\u001b[0m: name 'rating_matrix_ar' is not defined"
     ]
    }
   ],
   "source": [
    "def get_cosine_similarity(x, y):\n",
    "    return 1- sp.distance.cosine(x, y)\n",
    "\n",
    "def get_jaccard_similarity(x, y):\n",
    "    return 1 - sp.distance.jaccard(x, y)\n",
    "\n",
    "user_similarity = []\n",
    "target_user_row = rating_matrix_ar[0]\n",
    "for row in rating_matrix_ar:\n",
    "    sim = get_jaccard_similarity(target_user_row, row)\n",
    "    user_similarity.append(sim)\n",
    "user_similarity = np.array(user_similarity)"
   ]
  },
  {
   "cell_type": "code",
   "execution_count": 2,
   "metadata": {},
   "outputs": [
    {
     "ename": "NameError",
     "evalue": "name 'rating_matrix_ar' is not defined",
     "output_type": "error",
     "traceback": [
      "\u001b[1;31m---------------------------------------------------------------------------\u001b[0m",
      "\u001b[1;31mNameError\u001b[0m                                 Traceback (most recent call last)",
      "\u001b[1;32m<ipython-input-2-08b7986450ed>\u001b[0m in \u001b[0;36m<module>\u001b[1;34m()\u001b[0m\n\u001b[1;32m----> 1\u001b[1;33m \u001b[0mrating_matrix_ar\u001b[0m\u001b[1;33m[\u001b[0m\u001b[1;33m:\u001b[0m\u001b[1;33m,\u001b[0m\u001b[1;36m0\u001b[0m\u001b[1;33m]\u001b[0m\u001b[1;33m\u001b[0m\u001b[0m\n\u001b[0m",
      "\u001b[1;31mNameError\u001b[0m: name 'rating_matrix_ar' is not defined"
     ]
    }
   ],
   "source": [
    "rating_matrix_ar[:,0]"
   ]
  },
  {
   "cell_type": "code",
   "execution_count": 14,
   "metadata": {},
   "outputs": [
    {
     "data": {
      "text/plain": [
       "array([ 1.        ,  0.        ,  0.14285714, ...,  0.        ,\n",
       "        0.08333333,  0.05263158])"
      ]
     },
     "execution_count": 14,
     "metadata": {},
     "output_type": "execute_result"
    }
   ],
   "source": [
    "user_similarity"
   ]
  },
  {
   "cell_type": "markdown",
   "metadata": {},
   "source": [
    "類似度の高いユーザーTopNを抽出します。"
   ]
  },
  {
   "cell_type": "code",
   "execution_count": 15,
   "metadata": {
    "collapsed": true
   },
   "outputs": [],
   "source": [
    "topN = 20\n",
    "idx = user_similarity.argsort()[::-1][1:topN+1]\n",
    "selected_user_similarity = user_similarity[idx]\n",
    "selected_rating = rating_matrix_ar[idx]"
   ]
  },
  {
   "cell_type": "markdown",
   "metadata": {},
   "source": [
    "平均類似度を計算しましょう。"
   ]
  },
  {
   "cell_type": "code",
   "execution_count": 16,
   "metadata": {
    "collapsed": true
   },
   "outputs": [],
   "source": [
    "avg_score = []\n",
    "for col_idx in range(selected_rating.shape[1]):\n",
    "    weight_score = sum(selected_rating[:, col_idx] * selected_user_similarity)\n",
    "    similarity_sum = \\\n",
    "     sum(selected_user_similarity[selected_user_similarity > 0])\n",
    "    avg_score.append(weight_score / similarity_sum)\n",
    "avg_score = np.array(avg_score)"
   ]
  },
  {
   "cell_type": "markdown",
   "metadata": {},
   "source": [
    "そして、平均類似度の高い上位10テーマをオススメとして表示させます。"
   ]
  },
  {
   "cell_type": "code",
   "execution_count": 17,
   "metadata": {},
   "outputs": [
    {
     "name": "stdout",
     "output_type": "stream",
     "text": [
      "インテリジェント・デザイン\n",
      "映画\n",
      "音楽\n",
      "デート\n",
      "副業\n"
     ]
    }
   ],
   "source": [
    "recommend_num = 5\n",
    "counter = 0\n",
    "for recommended_topic in topic_list[avg_score.argsort()[::-1]]:\n",
    "    if recommended_topic not in already_followed_topic:\n",
    "        print(recommended_topic)\n",
    "        counter += 1\n",
    "        if recommend_num <= counter:\n",
    "            break"
   ]
  },
  {
   "cell_type": "markdown",
   "metadata": {},
   "source": [
    "どうでしょうか？これを気に入ってくれそうですか？"
   ]
  },
  {
   "cell_type": "markdown",
   "metadata": {},
   "source": [
    "<h2>次元削減を行ってみましょう</h2>\n",
    "\n",
    "ここでは、以下2つの手法を紹介します。\n",
    "* SVD\n",
    "* Non Negative Matrix Factorization"
   ]
  },
  {
   "cell_type": "markdown",
   "metadata": {},
   "source": [
    "<h3>特異値分解(Singular Value Decomposition)による次元圧縮を使ったレコメンデーション</h3>"
   ]
  },
  {
   "cell_type": "markdown",
   "metadata": {},
   "source": [
    "まず、SVDを初期化します。"
   ]
  },
  {
   "cell_type": "code",
   "execution_count": 18,
   "metadata": {
    "collapsed": true
   },
   "outputs": [],
   "source": [
    "svd = TruncatedSVD(n_components=20)"
   ]
  },
  {
   "cell_type": "markdown",
   "metadata": {},
   "source": [
    "Scipy Sparse行列にしておきます。"
   ]
  },
  {
   "cell_type": "code",
   "execution_count": 19,
   "metadata": {
    "collapsed": true
   },
   "outputs": [],
   "source": [
    "rating_matrix_sparse = sparse.lil_matrix(rating_matrix_ar)"
   ]
  },
  {
   "cell_type": "markdown",
   "metadata": {},
   "source": [
    "データを適用させます。"
   ]
  },
  {
   "cell_type": "code",
   "execution_count": 20,
   "metadata": {
    "collapsed": true
   },
   "outputs": [],
   "source": [
    "rating_matrix_svd = svd.fit_transform(rating_matrix_sparse)"
   ]
  },
  {
   "cell_type": "markdown",
   "metadata": {},
   "source": [
    "あとは、前回と同じです。似ているユーザーを探して平均類似度の高いトピックをお勧めしましょう。"
   ]
  },
  {
   "cell_type": "code",
   "execution_count": 21,
   "metadata": {
    "collapsed": true
   },
   "outputs": [],
   "source": [
    "user_similarity = []\n",
    "target_user_svd = rating_matrix_svd[0]\n",
    "for row in rating_matrix_svd:\n",
    "    sim = get_cosine_similarity(target_user_svd, row)\n",
    "    user_similarity.append(sim)\n",
    "user_similarity = np.array(user_similarity)"
   ]
  },
  {
   "cell_type": "code",
   "execution_count": 22,
   "metadata": {},
   "outputs": [
    {
     "name": "stdout",
     "output_type": "stream",
     "text": [
      "インテリジェント・デザイン\n",
      "ロードバイク\n",
      "Twitter\n",
      "ゲーム\n",
      "PlayStation_4\n"
     ]
    }
   ],
   "source": [
    "topN = 20\n",
    "idx = user_similarity.argsort()[::-1][1:topN+1]\n",
    "selected_user_similarity = user_similarity[idx]\n",
    "selected_rating = rating_matrix_ar[idx]\n",
    "\n",
    "avg_score = []\n",
    "for col_idx in range(selected_rating.shape[1]):\n",
    "    weight_score = sum(selected_rating[:, col_idx] * selected_user_similarity)\n",
    "    similarity_sum = \\\n",
    "     sum(selected_user_similarity[selected_user_similarity > 0])\n",
    "    avg_score.append(weight_score / similarity_sum)\n",
    "avg_score = np.array(avg_score)\n",
    "\n",
    "recommend_num = 5\n",
    "counter = 0\n",
    "for recommended_topic in topic_list[avg_score.argsort()[::-1]]:\n",
    "    if recommended_topic not in already_followed_topic:\n",
    "        print(recommended_topic)\n",
    "        counter += 1\n",
    "        if recommend_num <= counter:\n",
    "            break"
   ]
  },
  {
   "cell_type": "markdown",
   "metadata": {},
   "source": [
    "<h3>非負値行列分解(Non Negative Matrix Factorization)による次元圧縮を使ったレコメンデーション</h3>"
   ]
  },
  {
   "cell_type": "code",
   "execution_count": 38,
   "metadata": {
    "collapsed": true
   },
   "outputs": [],
   "source": [
    "nmf = NMF(n_components=10, random_state=1236, init='random')"
   ]
  },
  {
   "cell_type": "code",
   "execution_count": 39,
   "metadata": {},
   "outputs": [
    {
     "data": {
      "text/plain": [
       "<29332x14167 sparse matrix of type '<class 'numpy.float64'>'\n",
       "\twith 339323 stored elements in LInked List format>"
      ]
     },
     "execution_count": 39,
     "metadata": {},
     "output_type": "execute_result"
    }
   ],
   "source": [
    "rating_matrix_sparse"
   ]
  },
  {
   "cell_type": "code",
   "execution_count": 40,
   "metadata": {
    "collapsed": true
   },
   "outputs": [],
   "source": [
    "rating_matrix_nmf = nmf.fit_transform(rating_matrix_sparse)"
   ]
  },
  {
   "cell_type": "code",
   "execution_count": 41,
   "metadata": {},
   "outputs": [
    {
     "data": {
      "text/plain": [
       "(29332, 10)"
      ]
     },
     "execution_count": 41,
     "metadata": {},
     "output_type": "execute_result"
    }
   ],
   "source": [
    "rating_matrix_nmf.shape"
   ]
  },
  {
   "cell_type": "code",
   "execution_count": 42,
   "metadata": {
    "collapsed": true
   },
   "outputs": [],
   "source": [
    "user_similarity = []\n",
    "target_user_nmf = rating_matrix_nmf[0]\n",
    "for row in rating_matrix_nmf:\n",
    "    if sum(row) == 0:\n",
    "        sim = 0\n",
    "        user_similarity.append(sim)\n",
    "    else:\n",
    "        sim = get_cosine_similarity(target_user_nmf, row)\n",
    "        user_similarity.append(sim)\n",
    "user_similarity = np.array(user_similarity)"
   ]
  },
  {
   "cell_type": "code",
   "execution_count": 37,
   "metadata": {},
   "outputs": [
    {
     "name": "stdout",
     "output_type": "stream",
     "text": [
      "インテリジェント・デザイン\n",
      "仕事術\n",
      "マーケティング\n",
      "でんぱ組.inc\n",
      "セキュリティホール\n"
     ]
    }
   ],
   "source": [
    "topN = 20\n",
    "idx = user_similarity.argsort()[::-1][1:topN+1]\n",
    "selected_user_similarity = user_similarity[idx]\n",
    "selected_rating = rating_matrix_ar[idx]\n",
    "\n",
    "avg_score = []\n",
    "for col_idx in range(selected_rating.shape[1]):\n",
    "    weight_score = sum(selected_rating[:, col_idx] * selected_user_similarity)\n",
    "    similarity_sum = \\\n",
    "     sum(selected_user_similarity[selected_user_similarity > 0])\n",
    "    avg_score.append(weight_score / similarity_sum)\n",
    "avg_score = np.array(avg_score)\n",
    "\n",
    "recommend_num = 5\n",
    "counter = 0\n",
    "for recommended_topic in topic_list[avg_score.argsort()[::-1]]:\n",
    "    if recommended_topic not in already_followed_topic:\n",
    "        print(recommended_topic)\n",
    "        counter += 1\n",
    "        if recommend_num <= counter:\n",
    "            break"
   ]
  },
  {
   "cell_type": "code",
   "execution_count": 43,
   "metadata": {},
   "outputs": [
    {
     "name": "stdout",
     "output_type": "stream",
     "text": [
      "転職\n",
      "でんぱ組.inc\n",
      "Twitter\n",
      "インテリジェント・デザイン\n",
      "PlayStation_4\n"
     ]
    }
   ],
   "source": [
    "topN = 20\n",
    "idx = user_similarity.argsort()[::-1][1:topN+1]\n",
    "selected_user_similarity = user_similarity[idx]\n",
    "selected_rating = rating_matrix_ar[idx]\n",
    "\n",
    "avg_score = []\n",
    "for col_idx in range(selected_rating.shape[1]):\n",
    "    weight_score = sum(selected_rating[:, col_idx] * selected_user_similarity)\n",
    "    similarity_sum = \\\n",
    "     sum(selected_user_similarity[selected_user_similarity > 0])\n",
    "    avg_score.append(weight_score / similarity_sum)\n",
    "avg_score = np.array(avg_score)\n",
    "\n",
    "recommend_num = 5\n",
    "counter = 0\n",
    "for recommended_topic in topic_list[avg_score.argsort()[::-1]]:\n",
    "    if recommended_topic not in already_followed_topic:\n",
    "        print(recommended_topic)\n",
    "        counter += 1\n",
    "        if recommend_num <= counter:\n",
    "            break"
   ]
  },
  {
   "cell_type": "code",
   "execution_count": null,
   "metadata": {
    "collapsed": true
   },
   "outputs": [],
   "source": []
  }
 ],
 "metadata": {
  "anaconda-cloud": {},
  "kernelspec": {
   "display_name": "Python 3",
   "language": "python",
   "name": "python3"
  },
  "language_info": {
   "codemirror_mode": {
    "name": "ipython",
    "version": 3
   },
   "file_extension": ".py",
   "mimetype": "text/x-python",
   "name": "python",
   "nbconvert_exporter": "python",
   "pygments_lexer": "ipython3",
   "version": "3.6.7"
  }
 },
 "nbformat": 4,
 "nbformat_minor": 1
}
